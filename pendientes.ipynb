{
 "cells": [
  {
   "cell_type": "code",
   "execution_count": 71,
   "metadata": {},
   "outputs": [],
   "source": [
    "import os\n",
    "import pandas as pd"
   ]
  },
  {
   "cell_type": "code",
   "execution_count": 72,
   "metadata": {},
   "outputs": [],
   "source": [
    "# Directorio de archivos\n",
    "directorio = r'C:\\Users\\Jose\\Documents\\python\\script_pendientes\\archivos'\n",
    "# Directorio de master\n",
    "# Leer el DataFrame det_tiendas desde el archivo det_tiendas.xlsx\n",
    "archivo_det_tiendas = r'C:\\Users\\Jose\\Documents\\data\\responsables\\cat\\02\\responsables_cat02.xlsx'\n"
   ]
  },
  {
   "cell_type": "code",
   "execution_count": 73,
   "metadata": {},
   "outputs": [],
   "source": [
    "# Obtener la lista de archivos en el directorio\n",
    "archivos_excel = [archivo for archivo in os.listdir(directorio) if archivo.endswith('.xlsx')]\n",
    "\n",
    "#obtener el df de las responsables \n",
    "ruta_det_tiendas = os.path.join(directorio, archivo_det_tiendas)\n",
    "df_det_tiendas = pd.read_excel(archivo_det_tiendas)"
   ]
  },
  {
   "cell_type": "code",
   "execution_count": 74,
   "metadata": {},
   "outputs": [],
   "source": [
    "#Creamos el df\n",
    "#columnas = ['DETERMINANTE',\t'TIENDA',\t'ESTADO',\t'FORMATO',\t'MEDIO',\t'CANTIDAD',\t'ESTATUS',\t'CLAVE']\n",
    "#df = pd.DataFrame(columns=columnas)\n",
    "df_final = pd.DataFrame()\n"
   ]
  },
  {
   "cell_type": "code",
   "execution_count": 75,
   "metadata": {},
   "outputs": [],
   "source": [
    "# Iterar sobre cada archivo\n",
    "for archivo in archivos_excel:\n",
    "    # Construir la ruta completa del archivo\n",
    "    ruta_completa = os.path.join(directorio, archivo)\n",
    "\n",
    "    # Leer el archivo Excel en un DataFrame\n",
    "    df = pd.read_excel(ruta_completa)   \n",
    "\n",
    "    # obtenemos las variables a utilizar\n",
    "    total_medios = df.iloc[12,1]\n",
    "    camp = df.iloc[3,1]\n",
    "    id = df.iloc[4,1]\n",
    "\n",
    "    #Eliminamos las primeras 22 lineas y las ultimas\n",
    "    df = pd.read_excel(ruta_completa, skiprows=21)\n",
    "\n",
    "    #Eliminamos la comuna 9, ya que no tiene valores\n",
    "    df = df.drop('FECHA ULTIMA EVIDENCIA', axis = 1)\n",
    "\n",
    "    #Eliminamos las columnas CLAVE y COMENTARIO\n",
    "    df = df.drop('CLAVE',axis = 1)\n",
    "    df = df.drop('COMENTARIO',axis = 1)\n",
    "\n",
    "    #Agregamos las columnas para la campaña y el id\n",
    "    df.insert(0, 'Campaña', value=camp)  \n",
    "    df.insert(1, 'Id_brick', value=id)\n",
    "\n",
    "    #Eliminamos las filas vacias\n",
    "    df = df.dropna(subset=['TIENDA'])\n",
    "\n",
    "    #Se eliminan todas las filas que no tengan el estatus POR VISITAR   \n",
    "    df = df[df['ESTATUS'] == 'POR VISITAR']\n",
    "\n",
    "    #Agrega el responsable y al c al df\n",
    "    # df.insert(0, 'Campaña', value=camp)  \n",
    "    # df.insert(1, 'Id_brick', value=id)\n",
    "\n",
    "    # Realizar la fusión (merge) basada en la columna 'determinante'\n",
    "    #df = pd.merge(df, df_det_tiendas[['determinante', 'responsable', 'campaña']], how='left', left_on='determinante', right_on='determinante')\n",
    "\n",
    "    #Se juntan los archivos \n",
    "    df_final = pd.concat([df_final, df], ignore_index=True)\n",
    "\n",
    "#Guardamos los df en un archivo excel\n",
    "df_final.to_excel('Pendientes.xlsx', index=False)    \n",
    "\n",
    "    #print(f'Contenido de {archivo}:')\n",
    "    #print(df.head())\n",
    "    #print('\\n')\n",
    "    #numero_de_filas = df.shape[0]\n",
    "    #print(numero_de_filas)\n",
    "    #print(df.info(10))\n"
   ]
  }
 ],
 "metadata": {
  "kernelspec": {
   "display_name": "Python 3",
   "language": "python",
   "name": "python3"
  },
  "language_info": {
   "codemirror_mode": {
    "name": "ipython",
    "version": 3
   },
   "file_extension": ".py",
   "mimetype": "text/x-python",
   "name": "python",
   "nbconvert_exporter": "python",
   "pygments_lexer": "ipython3",
   "version": "3.11.7"
  }
 },
 "nbformat": 4,
 "nbformat_minor": 2
}
